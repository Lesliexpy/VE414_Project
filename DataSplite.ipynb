{
 "cells": [
  {
   "cell_type": "code",
   "execution_count": 4,
   "metadata": {
    "ExecuteTime": {
     "end_time": "2019-11-21T12:34:21.854000+08:00",
     "start_time": "2019-11-21T04:33:58.118Z"
    }
   },
   "outputs": [],
   "source": [
    "using CSV;\n",
    "using LinearAlgebra;\n",
    "using Distributions;\n",
    "using Random;\n",
    "using Plots;"
   ]
  },
  {
   "cell_type": "code",
   "execution_count": 20,
   "metadata": {
    "ExecuteTime": {
     "end_time": "2019-11-21T12:39:45.700000+08:00",
     "start_time": "2019-11-21T04:39:45.678Z"
    }
   },
   "outputs": [
    {
     "ename": "UndefVarError",
     "evalue": "UndefVarError: int not defined",
     "output_type": "error",
     "traceback": [
      "UndefVarError: int not defined",
      "",
      "Stacktrace:",
      " [1] top-level scope at In[20]:1"
     ]
    }
   ],
   "source": [
    "df = CSV.read(\"./data_proj_414.csv\", \n",
    "    delim = ',',\n",
    "    types=Dict(\n",
    "        \"Potter\"=>Bool,\n",
    "        \"Weasley\"=>Bool,\n",
    "        \"Granger\"=>Bool,\n",
    "        \"Trip\"=>int,\n",
    "        \"Close\"=>int,\n",
    "        \"Far\"=>int));"
   ]
  },
  {
   "cell_type": "code",
   "execution_count": 6,
   "metadata": {
    "ExecuteTime": {
     "end_time": "2019-11-21T12:34:47.570000+08:00",
     "start_time": "2019-11-21T04:33:59.407Z"
    }
   },
   "outputs": [
    {
     "data": {
      "text/plain": [
       "9-element Array{Symbol,1}:\n",
       " :Column1\n",
       " :X      \n",
       " :Y      \n",
       " :Potter \n",
       " :Weasley\n",
       " :Granger\n",
       " :Trip   \n",
       " :Close  \n",
       " :Far    "
      ]
     },
     "execution_count": 6,
     "metadata": {},
     "output_type": "execute_result"
    }
   ],
   "source": [
    "title = names(df)"
   ]
  },
  {
   "cell_type": "code",
   "execution_count": 7,
   "metadata": {
    "ExecuteTime": {
     "end_time": "2019-11-21T12:34:48.182000+08:00",
     "start_time": "2019-11-21T04:34:01.388Z"
    }
   },
   "outputs": [
    {
     "name": "stdout",
     "output_type": "stream",
     "text": [
      "Symbol[:Column1, :X, :Y, :Potter, :Weasley, :Granger, :Trip, :Close, :Far]\n"
     ]
    }
   ],
   "source": [
    "println(title)"
   ]
  },
  {
   "cell_type": "code",
   "execution_count": 8,
   "metadata": {
    "ExecuteTime": {
     "end_time": "2019-11-21T12:34:48.277000+08:00",
     "start_time": "2019-11-21T04:34:05.735Z"
    }
   },
   "outputs": [],
   "source": [
    "data = df;\n",
    "data_X = data[:,2];\n",
    "data_Y = data[:,3];\n",
    "data_Potter = data[:,4];\n",
    "data_Weasley = data[:,5];\n",
    "data_Granger = data[:,6];\n",
    "data_Trip = data[:,7];\n",
    "data_Close = data[:,8];\n",
    "data_Far = data[:,9];"
   ]
  },
  {
   "cell_type": "code",
   "execution_count": 9,
   "metadata": {
    "ExecuteTime": {
     "end_time": "2019-11-21T12:34:49.561000+08:00",
     "start_time": "2019-11-21T04:34:08.686Z"
    }
   },
   "outputs": [
    {
     "data": {
      "text/plain": [
       "6-element Array{Float64,1}:\n",
       "  2.46628384419442\n",
       "  5.50833567528356\n",
       "  6.78448075699181\n",
       "  7.5504994061406 \n",
       " 10.4020964298133 \n",
       " 12.2428393659298 "
      ]
     },
     "execution_count": 9,
     "metadata": {},
     "output_type": "execute_result"
    }
   ],
   "source": [
    "data_X[1:6]"
   ]
  },
  {
   "cell_type": "code",
   "execution_count": 29,
   "metadata": {
    "ExecuteTime": {
     "end_time": "2019-11-20T21:34:15.846000+08:00",
     "start_time": "2019-11-20T13:34:15.650Z"
    }
   },
   "outputs": [
    {
     "data": {
      "text/plain": [
       "DataSplite (generic function with 2 methods)"
      ]
     },
     "execution_count": 29,
     "metadata": {},
     "output_type": "execute_result"
    }
   ],
   "source": [
    "# function DataSplite(aim1,aim2,mask,keep)\n",
    "#     # len(aim1) == len(aim2) == ...\n",
    "#     # cut aim with mask and keep the number \"keep\" in the position of mask\n",
    "#     # usage: P_X, P_Y = DataSplite(data_X,data_Y,data_Potter,1);\n",
    "#     new_list1 = []\n",
    "#     new_list2 = []\n",
    "#     for i = 1 : length(aim1)\n",
    "#         if mask[i] == keep\n",
    "# #             new_list.appends(aim[i])\n",
    "#             push!(new_list1,aim1[i])\n",
    "#             push!(new_list2,aim2[i])\n",
    "            \n",
    "#         end\n",
    "#     end\n",
    "#     return new_list1, new_list2\n",
    "# end"
   ]
  },
  {
   "cell_type": "code",
   "execution_count": 13,
   "metadata": {
    "ExecuteTime": {
     "end_time": "2019-11-21T12:35:25.912000+08:00",
     "start_time": "2019-11-21T04:35:25.865Z"
    }
   },
   "outputs": [
    {
     "data": {
      "text/plain": [
       "ListDataSplite (generic function with 1 method)"
      ]
     },
     "execution_count": 13,
     "metadata": {},
     "output_type": "execute_result"
    }
   ],
   "source": [
    "function ListDataSplite(aims,mask,keep)\n",
    "    # len(aim1) == len(aim2) == ...\n",
    "    # cut aim with mask and keep the number \"keep\" in the position of mask\n",
    "    # usage: P_X, P_Y = DataSplite(data_X,data_Y,data_Potter,1);\n",
    "    keep_list = []\n",
    "    for aim in aims\n",
    "        new_list = []\n",
    "        for i = 1 : length(aim)\n",
    "            if mask[i] == keep\n",
    "                push!(new_list,aim[i])\n",
    "            end\n",
    "        end\n",
    "        push!(keep_list,new_list)\n",
    "    end\n",
    "    return keep_list\n",
    "end"
   ]
  },
  {
   "cell_type": "code",
   "execution_count": 18,
   "metadata": {
    "ExecuteTime": {
     "end_time": "2019-11-21T12:37:02.384000+08:00",
     "start_time": "2019-11-21T04:37:02.288Z"
    }
   },
   "outputs": [],
   "source": [
    "P = ListDataSplite([data_X,data_Y,data_Trip,data_Close,data_Far],data_Potter,1);"
   ]
  },
  {
   "cell_type": "code",
   "execution_count": 19,
   "metadata": {
    "ExecuteTime": {
     "end_time": "2019-11-21T12:37:06.653000+08:00",
     "start_time": "2019-11-21T04:37:06.647Z"
    }
   },
   "outputs": [
    {
     "data": {
      "text/plain": [
       "5-element Array{Any,1}:\n",
       " Any[2.46628, 5.50834, 6.78448, 7.5505, 10.4021, 12.2428, 13.3996, 14.7127, 15.4624, 15.6429  …  75.1843, 74.2159, 73.3331, 72.4161, 72.5179, 73.6192, 74.0957, 75.0824, 74.5459, 76.2333] \n",
       " Any[3.58212, 8.29571, 11.8514, 14.4118, 17.2181, 21.6676, 24.3296, 26.5969, 28.0332, 30.7124  …  68.2662, 68.3339, 67.9505, 69.9164, 70.6308, 70.6823, 69.7629, 68.9868, 70.0236, 69.7517]\n",
       " Any[1.0, 1.0, 1.0, 1.0, 1.0, 1.0, 1.0, 1.0, 1.0, 1.0  …  50.0, 50.0, 50.0, 50.0, 50.0, 50.0, 50.0, 50.0, 50.0, 50.0]                                                                      \n",
       " Any[0.0, 0.0, 0.0, 0.0, 0.0, 0.0, 0.0, 0.0, 1.0, 0.0  …  0.0, 0.0, 0.0, 0.0, 0.0, 0.0, 0.0, 0.0, 0.0, 0.0]                                                                                \n",
       " Any[0.0, 0.0, 0.0, 0.0, 0.0, 0.0, 4.0, 8.0, 4.0, 0.0  …  0.0, 0.0, 2.0, 0.0, 0.0, 0.0, 0.0, 0.0, 0.0, 0.0]                                                                                "
      ]
     },
     "execution_count": 19,
     "metadata": {},
     "output_type": "execute_result"
    }
   ],
   "source": [
    "P"
   ]
  },
  {
   "cell_type": "code",
   "execution_count": 32,
   "metadata": {
    "ExecuteTime": {
     "end_time": "2019-11-20T21:36:07.787000+08:00",
     "start_time": "2019-11-20T13:36:07.690Z"
    }
   },
   "outputs": [
    {
     "name": "stdout",
     "output_type": "stream",
     "text": [
      "24094, 8000, 8336, 7758"
     ]
    }
   ],
   "source": [
    "P_X, P_Y = DataSplite([data_X,data_Y],data_Potter,1);\n",
    "W_X, W_Y = DataSplite(data_X,data_Y,data_Weasley,1);\n",
    "G_X, G_Y = DataSplite(data_X,data_Y,data_Granger,1);\n",
    "print(length(data_X),\", \",length(P_X),\", \",length(W_X),\", \",length(G_X))"
   ]
  },
  {
   "cell_type": "code",
   "execution_count": null,
   "metadata": {},
   "outputs": [],
   "source": [
    "Max_trip = 49;\n",
    "# for "
   ]
  }
 ],
 "metadata": {
  "kernelspec": {
   "display_name": "Julia 1.0.4",
   "language": "julia",
   "name": "julia-1.0"
  },
  "language_info": {
   "file_extension": ".jl",
   "mimetype": "application/julia",
   "name": "julia",
   "version": "1.0.4"
  },
  "toc": {
   "base_numbering": 1,
   "nav_menu": {},
   "number_sections": true,
   "sideBar": true,
   "skip_h1_title": false,
   "title_cell": "Table of Contents",
   "title_sidebar": "Contents",
   "toc_cell": false,
   "toc_position": {},
   "toc_section_display": true,
   "toc_window_display": false
  }
 },
 "nbformat": 4,
 "nbformat_minor": 2
}
