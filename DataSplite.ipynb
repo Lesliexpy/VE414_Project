{
 "cells": [
  {
   "cell_type": "code",
   "execution_count": 3,
   "metadata": {
    "ExecuteTime": {
     "end_time": "2019-11-20T21:14:34.587000+08:00",
     "start_time": "2019-11-20T13:13:32.860Z"
    }
   },
   "outputs": [],
   "source": [
    "using CSV;\n",
    "using LinearAlgebra;\n",
    "using Distributions;\n",
    "using Random;\n",
    "using Plots;"
   ]
  },
  {
   "cell_type": "code",
   "execution_count": 4,
   "metadata": {
    "ExecuteTime": {
     "end_time": "2019-11-20T21:15:40.774000+08:00",
     "start_time": "2019-11-20T13:13:33.506Z"
    }
   },
   "outputs": [],
   "source": [
    "df = CSV.read(\"./data_proj_414.csv\", delim = ',');"
   ]
  },
  {
   "cell_type": "code",
   "execution_count": 5,
   "metadata": {
    "ExecuteTime": {
     "end_time": "2019-11-20T21:15:44.687000+08:00",
     "start_time": "2019-11-20T13:13:33.941Z"
    }
   },
   "outputs": [
    {
     "data": {
      "text/plain": [
       "9-element Array{Symbol,1}:\n",
       " :Column1\n",
       " :X      \n",
       " :Y      \n",
       " :Potter \n",
       " :Weasley\n",
       " :Granger\n",
       " :Trip   \n",
       " :Close  \n",
       " :Far    "
      ]
     },
     "execution_count": 5,
     "metadata": {},
     "output_type": "execute_result"
    }
   ],
   "source": [
    "title = names(df)"
   ]
  },
  {
   "cell_type": "code",
   "execution_count": 6,
   "metadata": {
    "ExecuteTime": {
     "end_time": "2019-11-20T21:15:45.868000+08:00",
     "start_time": "2019-11-20T13:13:34.943Z"
    }
   },
   "outputs": [
    {
     "name": "stdout",
     "output_type": "stream",
     "text": [
      "Symbol[:Column1, :X, :Y, :Potter, :Weasley, :Granger, :Trip, :Close, :Far]\n"
     ]
    }
   ],
   "source": [
    "println(title)"
   ]
  },
  {
   "cell_type": "code",
   "execution_count": 13,
   "metadata": {
    "ExecuteTime": {
     "end_time": "2019-11-20T21:21:59.897000+08:00",
     "start_time": "2019-11-20T13:21:59.677Z"
    }
   },
   "outputs": [],
   "source": [
    "data = df;\n",
    "data_X = data[:,2];\n",
    "data_Y = data[:,3];\n",
    "data_Potter = data[:,4];\n",
    "data_Weasley = data[:,5];\n",
    "data_Granger = data[:,6];\n",
    "data_Trip = data[:,7];\n",
    "data_Close = data[:,8];\n",
    "data_Far = data[:,9];"
   ]
  },
  {
   "cell_type": "code",
   "execution_count": 14,
   "metadata": {
    "ExecuteTime": {
     "end_time": "2019-11-20T21:22:02.599000+08:00",
     "start_time": "2019-11-20T13:22:00.719Z"
    }
   },
   "outputs": [
    {
     "data": {
      "text/plain": [
       "6-element Array{Float64,1}:\n",
       "  2.46628384419442\n",
       "  5.50833567528356\n",
       "  6.78448075699181\n",
       "  7.5504994061406 \n",
       " 10.4020964298133 \n",
       " 12.2428393659298 "
      ]
     },
     "execution_count": 14,
     "metadata": {},
     "output_type": "execute_result"
    }
   ],
   "source": [
    "data_X[1:6]"
   ]
  },
  {
   "cell_type": "code",
   "execution_count": 29,
   "metadata": {
    "ExecuteTime": {
     "end_time": "2019-11-20T21:34:15.846000+08:00",
     "start_time": "2019-11-20T13:34:15.650Z"
    }
   },
   "outputs": [
    {
     "data": {
      "text/plain": [
       "DataSplite (generic function with 2 methods)"
      ]
     },
     "execution_count": 29,
     "metadata": {},
     "output_type": "execute_result"
    }
   ],
   "source": [
    "function DataSplite(aim1,aim2,mask,keep)\n",
    "    # len(aim1) == len(aim2) == ...\n",
    "    # cut aim with mask and keep the number \"keep\" in the position of mask\n",
    "    # usage: P_X, P_Y = DataSplite(data_X,data_Y,data_Potter,1);\n",
    "    new_list1 = []\n",
    "    new_list2 = []\n",
    "    for i = 1 : length(aim1)\n",
    "        if mask[i] == keep\n",
    "#             new_list.appends(aim[i])\n",
    "            push!(new_list1,aim1[i])\n",
    "            push!(new_list2,aim2[i])\n",
    "            \n",
    "        end\n",
    "    end\n",
    "    return new_list1, new_list2\n",
    "end"
   ]
  },
  {
   "cell_type": "code",
   "execution_count": 32,
   "metadata": {
    "ExecuteTime": {
     "end_time": "2019-11-20T21:36:07.787000+08:00",
     "start_time": "2019-11-20T13:36:07.690Z"
    }
   },
   "outputs": [
    {
     "name": "stdout",
     "output_type": "stream",
     "text": [
      "24094, 8000, 8336, 7758"
     ]
    }
   ],
   "source": [
    "P_X, P_Y = DataSplite(data_X,data_Y,data_Potter,1);\n",
    "W_X, W_Y = DataSplite(data_X,data_Y,data_Weasley,1);\n",
    "G_X, G_Y = DataSplite(data_X,data_Y,data_Granger,1);\n",
    "print(length(data_X),\", \",length(P_X),\", \",length(W_X),\", \",length(G_X))"
   ]
  },
  {
   "cell_type": "code",
   "execution_count": null,
   "metadata": {},
   "outputs": [],
   "source": [
    "Max_trip = 49;\n",
    "# for "
   ]
  }
 ],
 "metadata": {
  "kernelspec": {
   "display_name": "Julia 1.0.4",
   "language": "julia",
   "name": "julia-1.0"
  },
  "language_info": {
   "file_extension": ".jl",
   "mimetype": "application/julia",
   "name": "julia",
   "version": "1.0.4"
  },
  "toc": {
   "base_numbering": 1,
   "nav_menu": {},
   "number_sections": true,
   "sideBar": true,
   "skip_h1_title": false,
   "title_cell": "Table of Contents",
   "title_sidebar": "Contents",
   "toc_cell": false,
   "toc_position": {},
   "toc_section_display": true,
   "toc_window_display": false
  }
 },
 "nbformat": 4,
 "nbformat_minor": 2
}
