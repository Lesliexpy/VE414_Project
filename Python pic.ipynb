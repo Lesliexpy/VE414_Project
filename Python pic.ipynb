{
 "cells": [
  {
   "cell_type": "code",
   "execution_count": 1,
   "metadata": {
    "ExecuteTime": {
     "end_time": "2019-11-20T11:49:43.322511Z",
     "start_time": "2019-11-20T11:49:41.976341Z"
    }
   },
   "outputs": [
    {
     "ename": "NameError",
     "evalue": "name 'birth_data' is not defined",
     "output_type": "error",
     "traceback": [
      "\u001b[0;31m---------------------------------------------------------------------------\u001b[0m",
      "\u001b[0;31mNameError\u001b[0m                                 Traceback (most recent call last)",
      "\u001b[0;32m<ipython-input-1-e367153913ab>\u001b[0m in \u001b[0;36m<module>\u001b[0;34m()\u001b[0m\n\u001b[1;32m     12\u001b[0m \u001b[0;34m\u001b[0m\u001b[0m\n\u001b[1;32m     13\u001b[0m \u001b[0;34m\u001b[0m\u001b[0m\n\u001b[0;32m---> 14\u001b[0;31m \u001b[0mdata\u001b[0m \u001b[0;34m=\u001b[0m \u001b[0;34m[\u001b[0m\u001b[0;34m[\u001b[0m\u001b[0mfloat\u001b[0m\u001b[0;34m(\u001b[0m\u001b[0mx\u001b[0m\u001b[0;34m)\u001b[0m \u001b[0;32mfor\u001b[0m \u001b[0mx\u001b[0m \u001b[0;32min\u001b[0m \u001b[0mrow\u001b[0m\u001b[0;34m]\u001b[0m \u001b[0;32mfor\u001b[0m \u001b[0mrow\u001b[0m \u001b[0;32min\u001b[0m \u001b[0mbirth_data\u001b[0m\u001b[0;34m]\u001b[0m  \u001b[0;31m# 将数据从string形式转换为float形式\u001b[0m\u001b[0;34m\u001b[0m\u001b[0m\n\u001b[0m\u001b[1;32m     15\u001b[0m \u001b[0;34m\u001b[0m\u001b[0m\n\u001b[1;32m     16\u001b[0m \u001b[0;34m\u001b[0m\u001b[0m\n",
      "\u001b[0;31mNameError\u001b[0m: name 'birth_data' is not defined"
     ]
    }
   ],
   "source": [
    "import csv\n",
    "import numpy as np\n",
    "\n",
    "import matplotlib.pyplot as plt\n",
    "\n",
    "data = []\n",
    "with open('./data_proj_414.csv') as csvfile:\n",
    "    csv_reader = csv.reader(csvfile)  # 使用csv.reader读取csvfile中的文件\n",
    "    data_header = next(csv_reader)  # 读取第一行每一列的标题\n",
    "    for row in csv_reader:  # 将csv 文件中的数据保存到birth_data中\n",
    "        data.append(row)\n",
    "\n",
    "\n",
    "data = [[float(x) for x in row] for row in birth_data]  # 将数据从string形式转换为float形式\n",
    "\n",
    "\n",
    "data = np.array(data)  # 将list数组转化成array数组便于查看数据结构\n",
    "data_header = np.array(data_header)\n",
    "print(data.shape)  # 利用.shape查看结构。\n",
    "print(data_header.shape)\n",
    "\n",
    "posX = data[:,1]\n",
    "posY = data[:,2]\n",
    "print(posX[7999])\n",
    "Potter_posX = posX[0:7999]\n",
    "Potter_posY = posY[0:7999]\n",
    "Weasley_posX = posX[8000:16335]\n",
    "Weasley_posY = posY[8000:16335]\n",
    "Granger_posX = posX[16336:24093]\n",
    "Granger_posY = posY[16336:24093]\n",
    "Potter_graph = plt.scatter(Potter_posX, potter_posY, s=0.1, c='r')\n",
    "Weasley_graph = plt.scatter(Weasley_posX, Weasley_posY, s=0.1, c='g')\n",
    "Granger_graph = plt.scatter(Granger_posX, Granger_posY, s=0.1, c='b')\n",
    "plt.show()\n",
    "plt.legend(['Potter','Weasley','Granger'])\n",
    "\n",
    "\n"
   ]
  },
  {
   "cell_type": "code",
   "execution_count": null,
   "metadata": {},
   "outputs": [],
   "source": []
  }
 ],
 "metadata": {
  "kernelspec": {
   "display_name": "Python 3",
   "language": "python",
   "name": "python3"
  },
  "language_info": {
   "codemirror_mode": {
    "name": "ipython",
    "version": 3
   },
   "file_extension": ".py",
   "mimetype": "text/x-python",
   "name": "python",
   "nbconvert_exporter": "python",
   "pygments_lexer": "ipython3",
   "version": "3.6.5"
  },
  "toc": {
   "base_numbering": 1,
   "nav_menu": {},
   "number_sections": true,
   "sideBar": true,
   "skip_h1_title": false,
   "title_cell": "Table of Contents",
   "title_sidebar": "Contents",
   "toc_cell": false,
   "toc_position": {},
   "toc_section_display": true,
   "toc_window_display": false
  }
 },
 "nbformat": 4,
 "nbformat_minor": 2
}
