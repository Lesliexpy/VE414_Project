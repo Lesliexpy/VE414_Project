{
 "cells": [
  {
   "cell_type": "code",
   "execution_count": 9,
   "metadata": {
    "ExecuteTime": {
     "end_time": "2019-11-02T15:24:52.323000+08:00",
     "start_time": "2019-11-02T07:24:14.146Z"
    }
   },
   "outputs": [],
   "source": [
    "# Julia 与 Python 的区别\n",
    "# 对数组、字符串等索引。Julia 索引的下标是从 1 开始，而不是从 0 开始\n",
    "# 索引列表和数组的最后一个元素时，Julia 使用 end ，Python 使用 -1\n",
    "# Julia 中的 Comprehensions （还）没有条件 if 语句\n",
    "# for, if, while, 等块的结尾需要 end ；不强制要求缩进排版\n",
    "# Julia 没有代码分行的语法：如果在一行的结尾，输入已经是个完整的表达式，就直接执行；\n",
    "# 否则就继续等待输入。强迫 Julia 的表达式分行的方法是用圆括号括起来\n",
    "# Julia 总是以列为主序的（类似 Fortran ），而 numpy 数组默认是以行为主序的（类似 C ）。\n",
    "# 如果想优化遍历数组的性能，从 numpy 到 Julia 时应改变遍历的顺序。"
   ]
  },
  {
   "cell_type": "code",
   "execution_count": 10,
   "metadata": {
    "ExecuteTime": {
     "end_time": "2019-11-02T15:24:52.327000+08:00",
     "start_time": "2019-11-02T07:24:14.148Z"
    }
   },
   "outputs": [],
   "source": [
    "using CSV;\n",
    "using LinearAlgebra;\n",
    "using Distributions;\n",
    "using Random\n",
    "using DataFrames"
   ]
  },
  {
   "cell_type": "code",
   "execution_count": 11,
   "metadata": {
    "ExecuteTime": {
     "end_time": "2019-11-02T15:24:52.356000+08:00",
     "start_time": "2019-11-02T07:24:14.151Z"
    }
   },
   "outputs": [],
   "source": [
    "df = CSV.read(\"./data_proj_414.csv\", header=true, delim = ',');"
   ]
  },
  {
   "cell_type": "code",
   "execution_count": 12,
   "metadata": {
    "ExecuteTime": {
     "end_time": "2019-11-02T15:24:52.363000+08:00",
     "start_time": "2019-11-02T07:24:14.155Z"
    }
   },
   "outputs": [
    {
     "data": {
      "text/plain": [
       "(24094, 9)"
      ]
     },
     "execution_count": 12,
     "metadata": {},
     "output_type": "execute_result"
    }
   ],
   "source": [
    "rows, columns = size(df)"
   ]
  },
  {
   "cell_type": "code",
   "execution_count": 13,
   "metadata": {
    "ExecuteTime": {
     "end_time": "2019-11-02T15:24:52.366000+08:00",
     "start_time": "2019-11-02T07:24:14.158Z"
    }
   },
   "outputs": [
    {
     "name": "stdout",
     "output_type": "stream",
     "text": [
      "Symbol[:X, :Y, :Potter, :Weasley, :Granger, :Trip, :Close, :Far]\n"
     ]
    }
   ],
   "source": [
    "title = names(df)\n",
    "println(title[2:end])"
   ]
  },
  {
   "cell_type": "code",
   "execution_count": 14,
   "metadata": {
    "ExecuteTime": {
     "end_time": "2019-11-02T15:24:52.398000+08:00",
     "start_time": "2019-11-02T07:24:14.161Z"
    }
   },
   "outputs": [
    {
     "name": "stdout",
     "output_type": "stream",
     "text": [
      "123"
     ]
    }
   ],
   "source": [
    "n_splits=3\n",
    "for i in range(1, length=n_splits, step =1)\n",
    "    print(i)\n",
    "end"
   ]
  },
  {
   "cell_type": "code",
   "execution_count": 15,
   "metadata": {
    "ExecuteTime": {
     "end_time": "2019-11-02T15:24:52.486000+08:00",
     "start_time": "2019-11-02T07:24:14.163Z"
    }
   },
   "outputs": [
    {
     "data": {
      "text/plain": [
       "k_fold_cross_validation (generic function with 4 methods)"
      ]
     },
     "execution_count": 15,
     "metadata": {},
     "output_type": "execute_result"
    }
   ],
   "source": [
    "function k_fold_cross_validation(df, n_splits=3, _shuffle = true, random_state= 1)\n",
    "    rows, columns = size(df)\n",
    "    if _shuffle\n",
    "        idx = shuffle(1:rows)\n",
    "    end\n",
    "    global k_point = Int[]\n",
    "    for i in range(1, length=n_splits, step =1)\n",
    "        append!(k_point, floor(Int, rows*(i-1)/n_splits))\n",
    "    end\n",
    "    println(k_point)\n",
    "    \n",
    "    train_idx = view(idx, 1:k_point[n_splits-1])\n",
    "    test_idx = view(idx, k_point[n_splits-1]:rows)\n",
    "    \n",
    "    train_df = df[train_idx, :]\n",
    "    test_df = df[test_idx, :]\n",
    "    return train_df, test_df\n",
    "end"
   ]
  },
  {
   "cell_type": "code",
   "execution_count": 16,
   "metadata": {
    "ExecuteTime": {
     "end_time": "2019-11-02T15:24:52.657000+08:00",
     "start_time": "2019-11-02T07:24:14.167Z"
    }
   },
   "outputs": [
    {
     "name": "stdout",
     "output_type": "stream",
     "text": [
      "[0, 8031, 16062]\n"
     ]
    },
    {
     "data": {
      "text/plain": [
       "(8031×9 DataFrame. Omitted printing of 2 columns\n",
       "│ Row  │ Column1 │ X       │ Y       │ Potter │ Weasley │ Granger │ Trip  │\n",
       "│      │ \u001b[90mInt64\u001b[39m   │ \u001b[90mFloat64\u001b[39m │ \u001b[90mFloat64\u001b[39m │ \u001b[90mInt64\u001b[39m  │ \u001b[90mInt64\u001b[39m   │ \u001b[90mInt64\u001b[39m   │ \u001b[90mInt64\u001b[39m │\n",
       "├──────┼─────────┼─────────┼─────────┼────────┼─────────┼─────────┼───────┤\n",
       "│ 1    │ 7363    │ 69.843  │ 62.3604 │ 1      │ 0       │ 0       │ 46    │\n",
       "│ 2    │ 6973    │ 53.0931 │ 58.485  │ 1      │ 0       │ 0       │ 44    │\n",
       "│ 3    │ 8062    │ 52.7153 │ 54.1063 │ 0      │ 1       │ 0       │ 1     │\n",
       "│ 4    │ 8287    │ 56.5005 │ 77.5843 │ 0      │ 1       │ 0       │ 2     │\n",
       "│ 5    │ 5986    │ 60.2665 │ 58.2913 │ 1      │ 0       │ 0       │ 38    │\n",
       "│ 6    │ 22576   │ 39.7653 │ 46.7638 │ 0      │ 0       │ 1       │ 40    │\n",
       "│ 7    │ 18919   │ 57.2945 │ 72.2003 │ 0      │ 0       │ 1       │ 17    │\n",
       "│ 8    │ 18739   │ 52.6626 │ 65.1289 │ 0      │ 0       │ 1       │ 16    │\n",
       "│ 9    │ 13245   │ 48.114  │ 84.9284 │ 0      │ 1       │ 0       │ 33    │\n",
       "│ 10   │ 23848   │ 48.4416 │ 64.0571 │ 0      │ 0       │ 1       │ 48    │\n",
       "⋮\n",
       "│ 8021 │ 2260    │ 71.1604 │ 50.0195 │ 1      │ 0       │ 0       │ 14    │\n",
       "│ 8022 │ 1715    │ 74.154  │ 55.8285 │ 1      │ 0       │ 0       │ 11    │\n",
       "│ 8023 │ 20465   │ 47.9731 │ 41.9877 │ 0      │ 0       │ 1       │ 27    │\n",
       "│ 8024 │ 5299    │ 8.50026 │ 9.17329 │ 1      │ 0       │ 0       │ 34    │\n",
       "│ 8025 │ 1241    │ 35.9544 │ 49.4888 │ 1      │ 0       │ 0       │ 8     │\n",
       "│ 8026 │ 21292   │ 61.6729 │ 57.0889 │ 0      │ 0       │ 1       │ 32    │\n",
       "│ 8027 │ 9201    │ 50.9246 │ 58.9949 │ 0      │ 1       │ 0       │ 8     │\n",
       "│ 8028 │ 2330    │ 52.3778 │ 51.9512 │ 1      │ 0       │ 0       │ 15    │\n",
       "│ 8029 │ 2660    │ 64.6277 │ 66.7628 │ 1      │ 0       │ 0       │ 17    │\n",
       "│ 8030 │ 11095   │ 51.231  │ 47.3189 │ 0      │ 1       │ 0       │ 20    │\n",
       "│ 8031 │ 11444   │ 53.8809 │ 62.9727 │ 0      │ 1       │ 0       │ 22    │, 16064×9 DataFrame. Omitted printing of 2 columns\n",
       "│ Row   │ Column1 │ X       │ Y       │ Potter │ Weasley │ Granger │ Trip  │\n",
       "│       │ \u001b[90mInt64\u001b[39m   │ \u001b[90mFloat64\u001b[39m │ \u001b[90mFloat64\u001b[39m │ \u001b[90mInt64\u001b[39m  │ \u001b[90mInt64\u001b[39m   │ \u001b[90mInt64\u001b[39m   │ \u001b[90mInt64\u001b[39m │\n",
       "├───────┼─────────┼─────────┼─────────┼────────┼─────────┼─────────┼───────┤\n",
       "│ 1     │ 11444   │ 53.8809 │ 62.9727 │ 0      │ 1       │ 0       │ 22    │\n",
       "│ 2     │ 9493    │ 74.7414 │ 62.5859 │ 0      │ 1       │ 0       │ 10    │\n",
       "│ 3     │ 15117   │ 47.1624 │ 58.6883 │ 0      │ 1       │ 0       │ 45    │\n",
       "│ 4     │ 2346    │ 52.1768 │ 55.6022 │ 1      │ 0       │ 0       │ 15    │\n",
       "│ 5     │ 4097    │ 58.628  │ 49.9272 │ 1      │ 0       │ 0       │ 26    │\n",
       "│ 6     │ 18356   │ 64.1505 │ 54.7416 │ 0      │ 0       │ 1       │ 13    │\n",
       "│ 7     │ 14548   │ 5.7218  │ 5.08556 │ 0      │ 1       │ 0       │ 42    │\n",
       "│ 8     │ 2259    │ 70.4458 │ 50.66   │ 1      │ 0       │ 0       │ 14    │\n",
       "│ 9     │ 21000   │ 68.3142 │ 70.5296 │ 0      │ 0       │ 1       │ 30    │\n",
       "│ 10    │ 15141   │ 45.5208 │ 60.9742 │ 0      │ 1       │ 0       │ 45    │\n",
       "⋮\n",
       "│ 16054 │ 963     │ 52.8084 │ 49.3815 │ 1      │ 0       │ 0       │ 6     │\n",
       "│ 16055 │ 15015   │ 66.984  │ 53.382  │ 0      │ 1       │ 0       │ 44    │\n",
       "│ 16056 │ 7661    │ 63.5459 │ 44.0201 │ 1      │ 0       │ 0       │ 48    │\n",
       "│ 16057 │ 18311   │ 58.7043 │ 53.6054 │ 0      │ 0       │ 1       │ 13    │\n",
       "│ 16058 │ 19232   │ 50.9462 │ 55.8082 │ 0      │ 0       │ 1       │ 19    │\n",
       "│ 16059 │ 6463    │ 46.4175 │ 50.2165 │ 1      │ 0       │ 0       │ 41    │\n",
       "│ 16060 │ 1422    │ 55.8841 │ 46.2815 │ 1      │ 0       │ 0       │ 9     │\n",
       "│ 16061 │ 14106   │ 49.8201 │ 52.9997 │ 0      │ 1       │ 0       │ 39    │\n",
       "│ 16062 │ 13650   │ 52.1463 │ 57.7413 │ 0      │ 1       │ 0       │ 36    │\n",
       "│ 16063 │ 225     │ 53.945  │ 64.7377 │ 1      │ 0       │ 0       │ 2     │\n",
       "│ 16064 │ 5971    │ 51.1745 │ 51.3445 │ 1      │ 0       │ 0       │ 38    │)"
      ]
     },
     "execution_count": 16,
     "metadata": {},
     "output_type": "execute_result"
    }
   ],
   "source": [
    "train_df, test_df = k_fold_cross_validation(df, 3, true, 1)"
   ]
  },
  {
   "cell_type": "code",
   "execution_count": null,
   "metadata": {
    "ExecuteTime": {
     "end_time": "2019-11-02T15:17:11.070000+08:00",
     "start_time": "2019-11-02T07:17:10.774Z"
    }
   },
   "outputs": [],
   "source": []
  },
  {
   "cell_type": "code",
   "execution_count": null,
   "metadata": {
    "ExecuteTime": {
     "end_time": "2019-11-02T15:17:25.639000+08:00",
     "start_time": "2019-11-02T07:17:24.713Z"
    }
   },
   "outputs": [],
   "source": []
  },
  {
   "cell_type": "code",
   "execution_count": null,
   "metadata": {},
   "outputs": [],
   "source": []
  }
 ],
 "metadata": {
  "kernelspec": {
   "display_name": "Julia 1.0.4",
   "language": "julia",
   "name": "julia-1.0"
  },
  "language_info": {
   "file_extension": ".jl",
   "mimetype": "application/julia",
   "name": "julia",
   "version": "1.0.4"
  },
  "toc": {
   "base_numbering": 1,
   "nav_menu": {},
   "number_sections": true,
   "sideBar": true,
   "skip_h1_title": false,
   "title_cell": "Table of Contents",
   "title_sidebar": "Contents",
   "toc_cell": false,
   "toc_position": {},
   "toc_section_display": true,
   "toc_window_display": false
  }
 },
 "nbformat": 4,
 "nbformat_minor": 2
}
