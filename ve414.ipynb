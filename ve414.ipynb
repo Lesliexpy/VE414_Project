{
 "cells": [
  {
   "cell_type": "code",
   "execution_count": 1,
   "metadata": {
    "ExecuteTime": {
     "end_time": "2019-11-20T19:51:32.777000+08:00",
     "start_time": "2019-11-20T11:51:30.373Z"
    }
   },
   "outputs": [],
   "source": [
    "# Julia 与 Python 的区别\n",
    "# 对数组、字符串等索引。Julia 索引的下标是从 1 开始，而不是从 0 开始\n",
    "# 索引列表和数组的最后一个元素时，Julia 使用 end ，Python 使用 -1\n",
    "# Julia 中的 Comprehensions （还）没有条件 if 语句\n",
    "# for, if, while, 等块的结尾需要 end ；不强制要求缩进排版\n",
    "# Julia 没有代码分行的语法：如果在一行的结尾，输入已经是个完整的表达式，就直接执行；\n",
    "# 否则就继续等待输入。强迫 Julia 的表达式分行的方法是用圆括号括起来\n",
    "# Julia 总是以列为主序的（类似 Fortran ），而 numpy 数组默认是以行为主序的（类似 C ）。\n",
    "# 如果想优化遍历数组的性能，从 numpy 到 Julia 时应改变遍历的顺序。"
   ]
  },
  {
   "cell_type": "code",
   "execution_count": 2,
   "metadata": {
    "ExecuteTime": {
     "end_time": "2019-11-20T19:51:52.781000+08:00",
     "start_time": "2019-11-20T11:51:30.379Z"
    }
   },
   "outputs": [],
   "source": [
    "using CSV;\n",
    "using LinearAlgebra;\n",
    "using Distributions;\n",
    "using Random\n",
    "using DataFrames"
   ]
  },
  {
   "cell_type": "code",
   "execution_count": 3,
   "metadata": {
    "ExecuteTime": {
     "end_time": "2019-11-20T19:52:13.701000+08:00",
     "start_time": "2019-11-20T11:51:30.382Z"
    }
   },
   "outputs": [],
   "source": [
    "df = CSV.read(\"./data_proj_414.csv\", header=true, delim = ',');"
   ]
  },
  {
   "cell_type": "code",
   "execution_count": 4,
   "metadata": {
    "ExecuteTime": {
     "end_time": "2019-11-20T19:52:14.664000+08:00",
     "start_time": "2019-11-20T11:51:30.385Z"
    }
   },
   "outputs": [
    {
     "data": {
      "text/plain": [
       "(24094, 9)"
      ]
     },
     "execution_count": 4,
     "metadata": {},
     "output_type": "execute_result"
    }
   ],
   "source": [
    "rows, columns = size(df)"
   ]
  },
  {
   "cell_type": "code",
   "execution_count": 5,
   "metadata": {
    "ExecuteTime": {
     "end_time": "2019-11-20T19:52:15.389000+08:00",
     "start_time": "2019-11-20T11:51:30.389Z"
    }
   },
   "outputs": [
    {
     "name": "stdout",
     "output_type": "stream",
     "text": [
      "Symbol[:X, :Y, :Potter, :Weasley, :Granger, :Trip, :Close, :Far]\n"
     ]
    }
   ],
   "source": [
    "title = names(df)\n",
    "println(title[2:end])"
   ]
  },
  {
   "cell_type": "code",
   "execution_count": 6,
   "metadata": {
    "ExecuteTime": {
     "end_time": "2019-11-20T19:52:15.519000+08:00",
     "start_time": "2019-11-20T11:51:30.392Z"
    }
   },
   "outputs": [
    {
     "name": "stdout",
     "output_type": "stream",
     "text": [
      "123"
     ]
    }
   ],
   "source": [
    "n_splits=3\n",
    "for i in range(1, length=n_splits, step =1)\n",
    "    print(i)\n",
    "end"
   ]
  },
  {
   "cell_type": "code",
   "execution_count": 7,
   "metadata": {
    "ExecuteTime": {
     "end_time": "2019-11-20T19:52:16.271000+08:00",
     "start_time": "2019-11-20T11:51:30.396Z"
    }
   },
   "outputs": [
    {
     "data": {
      "text/plain": [
       "k_fold_cross_validation (generic function with 4 methods)"
      ]
     },
     "execution_count": 7,
     "metadata": {},
     "output_type": "execute_result"
    }
   ],
   "source": [
    "function k_fold_cross_validation(df, n_splits=3, _shuffle = true, random_state= 1)\n",
    "    rows, columns = size(df)\n",
    "    if _shuffle\n",
    "        idx = shuffle(1:rows)\n",
    "    end\n",
    "    global k_point = Int[]\n",
    "    for i in range(1, length=n_splits, step =1)\n",
    "        append!(k_point, floor(Int, rows*(i-1)/n_splits))\n",
    "    end\n",
    "    println(k_point)\n",
    "    \n",
    "    train_idx = view(idx, 1:k_point[n_splits-1])\n",
    "    test_idx = view(idx, k_point[n_splits-1]:rows)\n",
    "    \n",
    "    train_df = df[train_idx, :]\n",
    "    test_df = df[test_idx, :]\n",
    "    return train_df, test_df\n",
    "end"
   ]
  },
  {
   "cell_type": "code",
   "execution_count": 8,
   "metadata": {
    "ExecuteTime": {
     "end_time": "2019-11-20T19:52:22.356000+08:00",
     "start_time": "2019-11-20T11:51:30.400Z"
    }
   },
   "outputs": [
    {
     "name": "stdout",
     "output_type": "stream",
     "text": [
      "[0, 8031, 16062]\n"
     ]
    },
    {
     "data": {
      "text/plain": [
       "(8031×9 DataFrame. Omitted printing of 2 columns\n",
       "│ Row  │ Column1 │ X       │ Y       │ Potter │ Weasley │ Granger │ Trip  │\n",
       "│      │ \u001b[90mInt64\u001b[39m   │ \u001b[90mFloat64\u001b[39m │ \u001b[90mFloat64\u001b[39m │ \u001b[90mInt64\u001b[39m  │ \u001b[90mInt64\u001b[39m   │ \u001b[90mInt64\u001b[39m   │ \u001b[90mInt64\u001b[39m │\n",
       "├──────┼─────────┼─────────┼─────────┼────────┼─────────┼─────────┼───────┤\n",
       "│ 1    │ 2596    │ 11.6037 │ 5.92681 │ 1      │ 0       │ 0       │ 17    │\n",
       "│ 2    │ 15987   │ 46.7963 │ 68.3861 │ 0      │ 1       │ 0       │ 50    │\n",
       "│ 3    │ 545     │ 59.4455 │ 46.2912 │ 1      │ 0       │ 0       │ 4     │\n",
       "│ 4    │ 17854   │ 55.5626 │ 51.3495 │ 0      │ 0       │ 1       │ 10    │\n",
       "│ 5    │ 23919   │ 56.0687 │ 72.4284 │ 0      │ 0       │ 1       │ 48    │\n",
       "│ 6    │ 1830    │ 56.4984 │ 64.0431 │ 1      │ 0       │ 0       │ 12    │\n",
       "│ 7    │ 12120   │ 51.4912 │ 76.3947 │ 0      │ 1       │ 0       │ 26    │\n",
       "│ 8    │ 16067   │ 64.6259 │ 52.6471 │ 0      │ 1       │ 0       │ 51    │\n",
       "│ 9    │ 16248   │ 68.6238 │ 67.7606 │ 0      │ 1       │ 0       │ 52    │\n",
       "│ 10   │ 388     │ 60.4049 │ 38.5009 │ 1      │ 0       │ 0       │ 3     │\n",
       "⋮\n",
       "│ 8021 │ 21602   │ 63.0332 │ 51.605  │ 0      │ 0       │ 1       │ 34    │\n",
       "│ 8022 │ 19056   │ 46.2026 │ 54.4653 │ 0      │ 0       │ 1       │ 18    │\n",
       "│ 8023 │ 261     │ 50.4085 │ 70.5372 │ 1      │ 0       │ 0       │ 2     │\n",
       "│ 8024 │ 23429   │ 58.3792 │ 56.1845 │ 0      │ 0       │ 1       │ 45    │\n",
       "│ 8025 │ 1241    │ 35.9544 │ 49.4888 │ 1      │ 0       │ 0       │ 8     │\n",
       "│ 8026 │ 358     │ 55.7266 │ 49.4792 │ 1      │ 0       │ 0       │ 3     │\n",
       "│ 8027 │ 11331   │ 53.658  │ 46.6466 │ 0      │ 1       │ 0       │ 21    │\n",
       "│ 8028 │ 13855   │ 47.7322 │ 49.4398 │ 0      │ 1       │ 0       │ 37    │\n",
       "│ 8029 │ 14751   │ 42.3764 │ 39.1174 │ 0      │ 1       │ 0       │ 43    │\n",
       "│ 8030 │ 6045    │ 74.2372 │ 62.9426 │ 1      │ 0       │ 0       │ 38    │\n",
       "│ 8031 │ 9822    │ 67.1399 │ 56.1021 │ 0      │ 1       │ 0       │ 12    │, 16064×9 DataFrame. Omitted printing of 2 columns\n",
       "│ Row   │ Column1 │ X       │ Y       │ Potter │ Weasley │ Granger │ Trip  │\n",
       "│       │ \u001b[90mInt64\u001b[39m   │ \u001b[90mFloat64\u001b[39m │ \u001b[90mFloat64\u001b[39m │ \u001b[90mInt64\u001b[39m  │ \u001b[90mInt64\u001b[39m   │ \u001b[90mInt64\u001b[39m   │ \u001b[90mInt64\u001b[39m │\n",
       "├───────┼─────────┼─────────┼─────────┼────────┼─────────┼─────────┼───────┤\n",
       "│ 1     │ 9822    │ 67.1399 │ 56.1021 │ 0      │ 1       │ 0       │ 12    │\n",
       "│ 2     │ 9494    │ 74.0838 │ 61.2018 │ 0      │ 1       │ 0       │ 10    │\n",
       "│ 3     │ 7527    │ 53.1034 │ 47.4317 │ 1      │ 0       │ 0       │ 47    │\n",
       "│ 4     │ 16729   │ 45.1095 │ 52.5791 │ 0      │ 0       │ 1       │ 3     │\n",
       "│ 5     │ 17806   │ 43.7531 │ 50.2938 │ 0      │ 0       │ 1       │ 10    │\n",
       "│ 6     │ 19189   │ 39.6147 │ 44.6277 │ 0      │ 0       │ 1       │ 19    │\n",
       "│ 7     │ 3694    │ 85.1434 │ 45.5158 │ 1      │ 0       │ 0       │ 23    │\n",
       "│ 8     │ 18444   │ 53.4047 │ 46.1771 │ 0      │ 0       │ 1       │ 14    │\n",
       "│ 9     │ 6687    │ 60.7064 │ 51.5588 │ 1      │ 0       │ 0       │ 42    │\n",
       "│ 10    │ 14398   │ 46.3173 │ 45.95   │ 0      │ 1       │ 0       │ 41    │\n",
       "⋮\n",
       "│ 16054 │ 12929   │ 24.3849 │ 19.31   │ 0      │ 1       │ 0       │ 32    │\n",
       "│ 16055 │ 16256   │ 69.994  │ 69.5091 │ 0      │ 1       │ 0       │ 52    │\n",
       "│ 16056 │ 23570   │ 53.6802 │ 59.6026 │ 0      │ 0       │ 1       │ 46    │\n",
       "│ 16057 │ 19461   │ 76.6153 │ 53.5466 │ 0      │ 0       │ 1       │ 20    │\n",
       "│ 16058 │ 1990    │ 61.4175 │ 60.8511 │ 1      │ 0       │ 0       │ 13    │\n",
       "│ 16059 │ 20529   │ 51.7695 │ 52.8534 │ 0      │ 0       │ 1       │ 27    │\n",
       "│ 16060 │ 18139   │ 46.1877 │ 59.4716 │ 0      │ 0       │ 1       │ 12    │\n",
       "│ 16061 │ 11186   │ 36.6153 │ 33.1624 │ 0      │ 1       │ 0       │ 21    │\n",
       "│ 16062 │ 6950    │ 54.324  │ 63.1911 │ 1      │ 0       │ 0       │ 44    │\n",
       "│ 16063 │ 14159   │ 52.2594 │ 61.2061 │ 0      │ 1       │ 0       │ 39    │\n",
       "│ 16064 │ 18801   │ 52.9673 │ 77.9944 │ 0      │ 0       │ 1       │ 16    │)"
      ]
     },
     "execution_count": 8,
     "metadata": {},
     "output_type": "execute_result"
    }
   ],
   "source": [
    "train_df, test_df = k_fold_cross_validation(df, 3, true, 1)"
   ]
  },
  {
   "cell_type": "code",
   "execution_count": null,
   "metadata": {
    "ExecuteTime": {
     "end_time": "2019-11-02T15:17:11.070000+08:00",
     "start_time": "2019-11-02T07:17:10.774Z"
    }
   },
   "outputs": [],
   "source": []
  },
  {
   "cell_type": "code",
   "execution_count": null,
   "metadata": {
    "ExecuteTime": {
     "end_time": "2019-11-02T15:17:25.639000+08:00",
     "start_time": "2019-11-02T07:17:24.713Z"
    }
   },
   "outputs": [],
   "source": []
  },
  {
   "cell_type": "code",
   "execution_count": null,
   "metadata": {},
   "outputs": [],
   "source": []
  }
 ],
 "metadata": {
  "kernelspec": {
   "display_name": "Julia 1.0.4",
   "language": "julia",
   "name": "julia-1.0"
  },
  "language_info": {
   "file_extension": ".jl",
   "mimetype": "application/julia",
   "name": "julia",
   "version": "1.0.4"
  },
  "toc": {
   "base_numbering": 1,
   "nav_menu": {},
   "number_sections": true,
   "sideBar": true,
   "skip_h1_title": false,
   "title_cell": "Table of Contents",
   "title_sidebar": "Contents",
   "toc_cell": false,
   "toc_position": {},
   "toc_section_display": true,
   "toc_window_display": false
  }
 },
 "nbformat": 4,
 "nbformat_minor": 2
}
