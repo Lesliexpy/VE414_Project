{
 "cells": [
  {
   "cell_type": "code",
   "execution_count": 1,
   "metadata": {
    "collapsed": true
   },
   "outputs": [],
   "source": [
    "# Objective: determine the number of Jiuling tress in the forbidden forest.\n",
    "# Spell: records the position of the person at an 1-minute interval (accurate)\n",
    "#               the number of Tayes close by (less 1 meter away) on the ground from the person (accurate)\n",
    "#               the number of Tayes no far way (less 3 meters away) on the ground from the person (not accurate, unknown precise nature)\n",
    "# Foebidden Forest: 107 * 107 \n",
    "# Number of Jiuling: Unchanged. Can't move or be stolen.\n",
    "\n",
    "# Task 1: To figure out what the spell has recorded. Make graphs of locations and useful information.\n",
    "# Task 2(main task): Estimate the number and location of Jiuling in the Forbidden Forrest. \n",
    "#                    Make sure the assumptions are consistent with the data.\n",
    "#Figure out what is needed to solve task2 if Jiuling can actually move.\n",
    "using Pkg;\n",
    "Pkg.add(\"CSV\")\n",
    "Pkg.add(\"LinearAlgebra\")\n",
    "Pkg.add(\"Distributions\")\n",
    "Pkg.add(\"Random\")"
   ]
  },
  {
   "cell_type": "code",
   "execution_count": 10,
   "metadata": {},
   "outputs": [],
   "source": [
    "using CSV;\n",
    "using LinearAlgebra;\n",
    "using Distributions;\n",
    "using Random"
   ]
  },
  {
   "cell_type": "code",
   "execution_count": 29,
   "metadata": {},
   "outputs": [
    {
     "data": {
      "text/html": [
       "<table class=\"data-frame\"><thead><tr><th></th><th>Column1</th><th>X</th><th>Y</th><th>Potter</th><th>Weasley</th><th>Granger</th><th>Trip</th><th>Close</th><th>Far</th></tr><tr><th></th><th>Int64</th><th>Float64</th><th>Float64</th><th>Int64</th><th>Int64</th><th>Int64</th><th>Int64</th><th>Int64</th><th>Int64</th></tr></thead><tbody><p>24,094 rows × 9 columns</p><tr><th>1</th><td>1</td><td>2.46628</td><td>3.58212</td><td>1</td><td>0</td><td>0</td><td>1</td><td>0</td><td>0</td></tr><tr><th>2</th><td>2</td><td>5.50834</td><td>8.29571</td><td>1</td><td>0</td><td>0</td><td>1</td><td>0</td><td>0</td></tr><tr><th>3</th><td>3</td><td>6.78448</td><td>11.8514</td><td>1</td><td>0</td><td>0</td><td>1</td><td>0</td><td>0</td></tr><tr><th>4</th><td>4</td><td>7.5505</td><td>14.4118</td><td>1</td><td>0</td><td>0</td><td>1</td><td>0</td><td>0</td></tr><tr><th>5</th><td>5</td><td>10.4021</td><td>17.2181</td><td>1</td><td>0</td><td>0</td><td>1</td><td>0</td><td>0</td></tr><tr><th>6</th><td>6</td><td>12.2428</td><td>21.6676</td><td>1</td><td>0</td><td>0</td><td>1</td><td>0</td><td>0</td></tr><tr><th>7</th><td>7</td><td>13.3996</td><td>24.3296</td><td>1</td><td>0</td><td>0</td><td>1</td><td>0</td><td>4</td></tr><tr><th>8</th><td>8</td><td>14.7127</td><td>26.5969</td><td>1</td><td>0</td><td>0</td><td>1</td><td>0</td><td>8</td></tr><tr><th>9</th><td>9</td><td>15.4624</td><td>28.0332</td><td>1</td><td>0</td><td>0</td><td>1</td><td>1</td><td>4</td></tr><tr><th>10</th><td>10</td><td>15.6429</td><td>30.7124</td><td>1</td><td>0</td><td>0</td><td>1</td><td>0</td><td>0</td></tr><tr><th>11</th><td>11</td><td>16.7027</td><td>33.12</td><td>1</td><td>0</td><td>0</td><td>1</td><td>0</td><td>0</td></tr><tr><th>12</th><td>12</td><td>16.6489</td><td>33.5306</td><td>1</td><td>0</td><td>0</td><td>1</td><td>0</td><td>0</td></tr><tr><th>13</th><td>13</td><td>19.2393</td><td>33.145</td><td>1</td><td>0</td><td>0</td><td>1</td><td>0</td><td>0</td></tr><tr><th>14</th><td>14</td><td>19.2122</td><td>34.7006</td><td>1</td><td>0</td><td>0</td><td>1</td><td>0</td><td>0</td></tr><tr><th>15</th><td>15</td><td>21.5363</td><td>35.9209</td><td>1</td><td>0</td><td>0</td><td>1</td><td>0</td><td>0</td></tr><tr><th>16</th><td>16</td><td>23.6977</td><td>37.4646</td><td>1</td><td>0</td><td>0</td><td>1</td><td>0</td><td>0</td></tr><tr><th>17</th><td>17</td><td>25.2458</td><td>38.9118</td><td>1</td><td>0</td><td>0</td><td>1</td><td>0</td><td>0</td></tr><tr><th>18</th><td>18</td><td>25.5793</td><td>38.099</td><td>1</td><td>0</td><td>0</td><td>1</td><td>0</td><td>0</td></tr><tr><th>19</th><td>19</td><td>26.0196</td><td>39.4914</td><td>1</td><td>0</td><td>0</td><td>1</td><td>0</td><td>0</td></tr><tr><th>20</th><td>20</td><td>28.2935</td><td>39.8595</td><td>1</td><td>0</td><td>0</td><td>1</td><td>0</td><td>0</td></tr><tr><th>21</th><td>21</td><td>28.3737</td><td>42.5574</td><td>1</td><td>0</td><td>0</td><td>1</td><td>0</td><td>0</td></tr><tr><th>22</th><td>22</td><td>30.7368</td><td>43.0417</td><td>1</td><td>0</td><td>0</td><td>1</td><td>0</td><td>0</td></tr><tr><th>23</th><td>23</td><td>31.1287</td><td>42.8344</td><td>1</td><td>0</td><td>0</td><td>1</td><td>0</td><td>0</td></tr><tr><th>24</th><td>24</td><td>31.696</td><td>42.7514</td><td>1</td><td>0</td><td>0</td><td>1</td><td>0</td><td>0</td></tr><tr><th>25</th><td>25</td><td>32.6394</td><td>43.8944</td><td>1</td><td>0</td><td>0</td><td>1</td><td>0</td><td>0</td></tr><tr><th>26</th><td>26</td><td>33.6558</td><td>45.3559</td><td>1</td><td>0</td><td>0</td><td>1</td><td>0</td><td>0</td></tr><tr><th>27</th><td>27</td><td>34.7357</td><td>45.9088</td><td>1</td><td>0</td><td>0</td><td>1</td><td>0</td><td>0</td></tr><tr><th>28</th><td>28</td><td>36.966</td><td>46.3835</td><td>1</td><td>0</td><td>0</td><td>1</td><td>0</td><td>0</td></tr><tr><th>29</th><td>29</td><td>37.3103</td><td>46.1135</td><td>1</td><td>0</td><td>0</td><td>1</td><td>0</td><td>0</td></tr><tr><th>30</th><td>30</td><td>38.4773</td><td>46.087</td><td>1</td><td>0</td><td>0</td><td>1</td><td>0</td><td>0</td></tr><tr><th>&vellip;</th><td>&vellip;</td><td>&vellip;</td><td>&vellip;</td><td>&vellip;</td><td>&vellip;</td><td>&vellip;</td><td>&vellip;</td><td>&vellip;</td><td>&vellip;</td></tr></tbody></table>"
      ],
      "text/latex": [
       "\\begin{tabular}{r|ccccccccc}\n",
       "\t& Column1 & X & Y & Potter & Weasley & Granger & Trip & Close & Far\\\\\n",
       "\t\\hline\n",
       "\t& Int64 & Float64 & Float64 & Int64 & Int64 & Int64 & Int64 & Int64 & Int64\\\\\n",
       "\t\\hline\n",
       "\t1 & 1 & 2.46628 & 3.58212 & 1 & 0 & 0 & 1 & 0 & 0 \\\\\n",
       "\t2 & 2 & 5.50834 & 8.29571 & 1 & 0 & 0 & 1 & 0 & 0 \\\\\n",
       "\t3 & 3 & 6.78448 & 11.8514 & 1 & 0 & 0 & 1 & 0 & 0 \\\\\n",
       "\t4 & 4 & 7.5505 & 14.4118 & 1 & 0 & 0 & 1 & 0 & 0 \\\\\n",
       "\t5 & 5 & 10.4021 & 17.2181 & 1 & 0 & 0 & 1 & 0 & 0 \\\\\n",
       "\t6 & 6 & 12.2428 & 21.6676 & 1 & 0 & 0 & 1 & 0 & 0 \\\\\n",
       "\t7 & 7 & 13.3996 & 24.3296 & 1 & 0 & 0 & 1 & 0 & 4 \\\\\n",
       "\t8 & 8 & 14.7127 & 26.5969 & 1 & 0 & 0 & 1 & 0 & 8 \\\\\n",
       "\t9 & 9 & 15.4624 & 28.0332 & 1 & 0 & 0 & 1 & 1 & 4 \\\\\n",
       "\t10 & 10 & 15.6429 & 30.7124 & 1 & 0 & 0 & 1 & 0 & 0 \\\\\n",
       "\t11 & 11 & 16.7027 & 33.12 & 1 & 0 & 0 & 1 & 0 & 0 \\\\\n",
       "\t12 & 12 & 16.6489 & 33.5306 & 1 & 0 & 0 & 1 & 0 & 0 \\\\\n",
       "\t13 & 13 & 19.2393 & 33.145 & 1 & 0 & 0 & 1 & 0 & 0 \\\\\n",
       "\t14 & 14 & 19.2122 & 34.7006 & 1 & 0 & 0 & 1 & 0 & 0 \\\\\n",
       "\t15 & 15 & 21.5363 & 35.9209 & 1 & 0 & 0 & 1 & 0 & 0 \\\\\n",
       "\t16 & 16 & 23.6977 & 37.4646 & 1 & 0 & 0 & 1 & 0 & 0 \\\\\n",
       "\t17 & 17 & 25.2458 & 38.9118 & 1 & 0 & 0 & 1 & 0 & 0 \\\\\n",
       "\t18 & 18 & 25.5793 & 38.099 & 1 & 0 & 0 & 1 & 0 & 0 \\\\\n",
       "\t19 & 19 & 26.0196 & 39.4914 & 1 & 0 & 0 & 1 & 0 & 0 \\\\\n",
       "\t20 & 20 & 28.2935 & 39.8595 & 1 & 0 & 0 & 1 & 0 & 0 \\\\\n",
       "\t21 & 21 & 28.3737 & 42.5574 & 1 & 0 & 0 & 1 & 0 & 0 \\\\\n",
       "\t22 & 22 & 30.7368 & 43.0417 & 1 & 0 & 0 & 1 & 0 & 0 \\\\\n",
       "\t23 & 23 & 31.1287 & 42.8344 & 1 & 0 & 0 & 1 & 0 & 0 \\\\\n",
       "\t24 & 24 & 31.696 & 42.7514 & 1 & 0 & 0 & 1 & 0 & 0 \\\\\n",
       "\t25 & 25 & 32.6394 & 43.8944 & 1 & 0 & 0 & 1 & 0 & 0 \\\\\n",
       "\t26 & 26 & 33.6558 & 45.3559 & 1 & 0 & 0 & 1 & 0 & 0 \\\\\n",
       "\t27 & 27 & 34.7357 & 45.9088 & 1 & 0 & 0 & 1 & 0 & 0 \\\\\n",
       "\t28 & 28 & 36.966 & 46.3835 & 1 & 0 & 0 & 1 & 0 & 0 \\\\\n",
       "\t29 & 29 & 37.3103 & 46.1135 & 1 & 0 & 0 & 1 & 0 & 0 \\\\\n",
       "\t30 & 30 & 38.4773 & 46.087 & 1 & 0 & 0 & 1 & 0 & 0 \\\\\n",
       "\t$\\dots$ & $\\dots$ & $\\dots$ & $\\dots$ & $\\dots$ & $\\dots$ & $\\dots$ & $\\dots$ & $\\dots$ & $\\dots$ \\\\\n",
       "\\end{tabular}\n"
      ],
      "text/plain": [
       "24094×9 DataFrames.DataFrame. Omitted printing of 2 columns\n",
       "│ Row   │ Column1 │ X       │ Y       │ Potter │ Weasley │ Granger │ Trip  │\n",
       "│       │ \u001b[90mInt64\u001b[39m   │ \u001b[90mFloat64\u001b[39m │ \u001b[90mFloat64\u001b[39m │ \u001b[90mInt64\u001b[39m  │ \u001b[90mInt64\u001b[39m   │ \u001b[90mInt64\u001b[39m   │ \u001b[90mInt64\u001b[39m │\n",
       "├───────┼─────────┼─────────┼─────────┼────────┼─────────┼─────────┼───────┤\n",
       "│ 1     │ 1       │ 2.46628 │ 3.58212 │ 1      │ 0       │ 0       │ 1     │\n",
       "│ 2     │ 2       │ 5.50834 │ 8.29571 │ 1      │ 0       │ 0       │ 1     │\n",
       "│ 3     │ 3       │ 6.78448 │ 11.8514 │ 1      │ 0       │ 0       │ 1     │\n",
       "│ 4     │ 4       │ 7.5505  │ 14.4118 │ 1      │ 0       │ 0       │ 1     │\n",
       "│ 5     │ 5       │ 10.4021 │ 17.2181 │ 1      │ 0       │ 0       │ 1     │\n",
       "│ 6     │ 6       │ 12.2428 │ 21.6676 │ 1      │ 0       │ 0       │ 1     │\n",
       "│ 7     │ 7       │ 13.3996 │ 24.3296 │ 1      │ 0       │ 0       │ 1     │\n",
       "│ 8     │ 8       │ 14.7127 │ 26.5969 │ 1      │ 0       │ 0       │ 1     │\n",
       "│ 9     │ 9       │ 15.4624 │ 28.0332 │ 1      │ 0       │ 0       │ 1     │\n",
       "│ 10    │ 10      │ 15.6429 │ 30.7124 │ 1      │ 0       │ 0       │ 1     │\n",
       "⋮\n",
       "│ 24084 │ 24084   │ 42.2884 │ 74.5059 │ 0      │ 0       │ 1       │ 49    │\n",
       "│ 24085 │ 24085   │ 43.155  │ 73.5994 │ 0      │ 0       │ 1       │ 49    │\n",
       "│ 24086 │ 24086   │ 42.9469 │ 72.9169 │ 0      │ 0       │ 1       │ 49    │\n",
       "│ 24087 │ 24087   │ 41.9519 │ 72.3013 │ 0      │ 0       │ 1       │ 49    │\n",
       "│ 24088 │ 24088   │ 41.0423 │ 73.9936 │ 0      │ 0       │ 1       │ 49    │\n",
       "│ 24089 │ 24089   │ 40.2695 │ 73.5479 │ 0      │ 0       │ 1       │ 49    │\n",
       "│ 24090 │ 24090   │ 40.6151 │ 74.4857 │ 0      │ 0       │ 1       │ 49    │\n",
       "│ 24091 │ 24091   │ 41.4851 │ 74.3357 │ 0      │ 0       │ 1       │ 49    │\n",
       "│ 24092 │ 24092   │ 41.2759 │ 76.9952 │ 0      │ 0       │ 1       │ 49    │\n",
       "│ 24093 │ 24093   │ 42.177  │ 76.159  │ 0      │ 0       │ 1       │ 49    │\n",
       "│ 24094 │ 24094   │ 40.5305 │ 76.0638 │ 0      │ 0       │ 1       │ 49    │"
      ]
     },
     "execution_count": 29,
     "metadata": {},
     "output_type": "execute_result"
    }
   ],
   "source": [
    "df = CSV.read(\"C:\\\\Users\\\\admin1\\\\Desktop\\\\VE414\\\\proj\\\\data_proj_414.csv\", delim = ',')"
   ]
  },
  {
   "cell_type": "code",
   "execution_count": null,
   "metadata": {
    "collapsed": true
   },
   "outputs": [],
   "source": []
  }
 ],
 "metadata": {
  "kernelspec": {
   "display_name": "Julia 1.2.0",
   "language": "julia",
   "name": "julia-1.2"
  },
  "language_info": {
   "file_extension": ".jl",
   "mimetype": "application/julia",
   "name": "julia",
   "version": "1.2.0"
  }
 },
 "nbformat": 4,
 "nbformat_minor": 2
}
